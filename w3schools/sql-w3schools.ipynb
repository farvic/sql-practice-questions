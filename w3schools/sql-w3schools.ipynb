{
 "cells": [
  {
   "cell_type": "code",
   "execution_count": null,
   "id": "2b199f63",
   "metadata": {
    "vscode": {
     "languageId": "sql"
    }
   },
   "outputs": [],
   "source": [
    "-- NOT IN\n",
    "\n",
    "SELECT * FROM Customers\n",
    "WHERE City NOT IN ('Paris', 'London');"
   ]
  },
  {
   "cell_type": "code",
   "execution_count": null,
   "id": "1c56b60b",
   "metadata": {
    "vscode": {
     "languageId": "sql"
    }
   },
   "outputs": [],
   "source": [
    "-- NOT BETWEEN\n",
    "\n",
    "SELECT * FROM Customers\n",
    "WHERE CustomerID NOT BETWEEN 10 AND 60;"
   ]
  },
  {
   "cell_type": "code",
   "execution_count": null,
   "id": "29abaeaf",
   "metadata": {
    "vscode": {
     "languageId": "sql"
    }
   },
   "outputs": [],
   "source": [
    "-- NOT GREATER THAN (the same can be done with less than)\n",
    "\n",
    "SELECT * FROM Customers\n",
    "WHERE NOT CustomerID > 50;"
   ]
  },
  {
   "cell_type": "code",
   "execution_count": null,
   "id": "7ed67868",
   "metadata": {
    "vscode": {
     "languageId": "sql"
    }
   },
   "outputs": [],
   "source": [
    "-- INSERT INTO\n",
    "\n",
    "INSERT INTO table_name (column1, column2, column3, ...)\n",
    "VALUES (value1, value2, value3, ...);\n",
    "\n",
    "INSERT INTO Customers (CustomerName, ContactName, Address, City, PostalCode, Country)\n",
    "VALUES ('Cardinal', 'Tom B. Erichsen', 'Skagen 21', 'Stavanger', '4006', 'Norway');"
   ]
  },
  {
   "cell_type": "code",
   "execution_count": null,
   "id": "b00b58fb",
   "metadata": {
    "vscode": {
     "languageId": "sql"
    }
   },
   "outputs": [],
   "source": [
    "-- INSERT INTO MULTIPLE ROWS\n",
    "\n",
    "INSERT INTO Customers (CustomerName, ContactName, Address, City, PostalCode, Country)\n",
    "VALUES\n",
    "('Cardinal', 'Tom B. Erichsen', 'Skagen 21', 'Stavanger', '4006', 'Norway'),\n",
    "('Greasy Burger', 'Per Olsen', 'Gateveien 15', 'Sandnes', '4306', 'Norway'),\n",
    "('Tasty Tee', 'Finn Egan', 'Streetroad 19B', 'Liverpool', 'L1 0AA', 'UK');"
   ]
  },
  {
   "cell_type": "code",
   "execution_count": null,
   "id": "bb1377d1",
   "metadata": {
    "vscode": {
     "languageId": "sql"
    }
   },
   "outputs": [],
   "source": [
    "-- Testing NULLS\n",
    "\n",
    "SELECT column_names\n",
    "FROM table_name\n",
    "WHERE column_name IS NULL; -- can be not null"
   ]
  },
  {
   "cell_type": "code",
   "execution_count": null,
   "id": "1cfefefb",
   "metadata": {
    "vscode": {
     "languageId": "sql"
    }
   },
   "outputs": [],
   "source": [
    "-- UPDATE\n",
    "\n",
    "UPDATE table_name\n",
    "SET column1 = value1, column2 = value2, ...\n",
    "WHERE condition;\n",
    "\n",
    "UPDATE Customers\n",
    "SET ContactName = 'Alfred Schmidt', City= 'Frankfurt'\n",
    "WHERE CustomerID = 1;"
   ]
  },
  {
   "cell_type": "code",
   "execution_count": null,
   "id": "98ef9f17",
   "metadata": {
    "vscode": {
     "languageId": "sql"
    }
   },
   "outputs": [],
   "source": [
    "-- DELETE\n",
    "\n",
    "DELETE FROM table_name\n",
    "WHERE condition;\n",
    "\n",
    "DELETE FROM Customers\n",
    "WHERE CustomerName='Alfreds Futterkiste';"
   ]
  },
  {
   "cell_type": "code",
   "execution_count": null,
   "id": "fe792cc8",
   "metadata": {
    "vscode": {
     "languageId": "sql"
    }
   },
   "outputs": [],
   "source": [
    "-- DELETE A TABLE\n",
    "\n",
    "DROP TABLE Costumers;"
   ]
  },
  {
   "cell_type": "code",
   "execution_count": null,
   "id": "ee2fdf15",
   "metadata": {
    "vscode": {
     "languageId": "sql"
    }
   },
   "outputs": [],
   "source": [
    "-- TOP\n",
    "SELECT TOP 3 * FROM Customers;\n",
    "\n",
    "-- MySQL syntax\n",
    "SELECT column_name(s)\n",
    "FROM table_name\n",
    "WHERE condition\n",
    "LIMIT number;"
   ]
  },
  {
   "cell_type": "code",
   "execution_count": null,
   "id": "d98af0a9",
   "metadata": {
    "vscode": {
     "languageId": "sql"
    }
   },
   "outputs": [],
   "source": [
    "-- The following SQL statement selects the first 50% of the records from the \"Customers\" table (for SQL Server/MS Access):\n",
    "\n",
    "SELECT TOP 50 PERCENT * FROM Customers;\n",
    "\n",
    "-- The following SQL statement shows the equivalent example for Oracle:\n",
    "SELECT * FROM Customers\n",
    "FETCH FIRST 50 PERCENT ROWS ONLY;"
   ]
  },
  {
   "cell_type": "markdown",
   "id": "861266db",
   "metadata": {},
   "source": [
    "## SQL Aggregate Functions\n",
    "An aggregate function is a function that performs a calculation on a set of values, and returns a single value.\n",
    "\n",
    "Aggregate functions are often used with the GROUP BY clause of the SELECT statement. The GROUP BY clause splits the result-set into groups of values and the aggregate function can be used to return a single value for each group.\n",
    "\n",
    "The most commonly used SQL aggregate functions are:\n",
    "\n",
    "- MIN() - returns the smallest value within the selected column\n",
    "- MAX() - returns the largest value within the selected column\n",
    "- COUNT() - returns the number of rows in a set\n",
    "- SUM() - returns the total sum of a numerical column\n",
    "- AVG() - returns the average value of a numerical column\n",
    "\n",
    "Aggregate functions ignore null values (except for COUNT())."
   ]
  },
  {
   "cell_type": "code",
   "execution_count": null,
   "id": "271e5324",
   "metadata": {
    "vscode": {
     "languageId": "sql"
    }
   },
   "outputs": [],
   "source": [
    "-- MIN with AS\n",
    "\n",
    "SELECT MIN(Price) AS SmallestPrice\n",
    "FROM Products;"
   ]
  },
  {
   "cell_type": "code",
   "execution_count": null,
   "id": "e12da783",
   "metadata": {
    "vscode": {
     "languageId": "sql"
    }
   },
   "outputs": [],
   "source": [
    "-- COUNT (including null values)\n",
    "SELECT COUNT(*)\n",
    "FROM Products;\n",
    "\n",
    "-- COUNT (discards null values)\n",
    "\n",
    "SELECT COUNT(ProductID)\n",
    "FROM Products;\n",
    "\n",
    "-- COUNT with WHERE\n",
    "\n",
    "SELECT COUNT(ProductID)\n",
    "FROM Products\n",
    "WHERE Price > 20;\n",
    "\n",
    "-- Ignoring duplicates\n",
    "\n",
    "SELECT COUNT(DISTINCT Price)\n",
    "FROM Products;"
   ]
  },
  {
   "cell_type": "code",
   "execution_count": null,
   "id": "8c39b972",
   "metadata": {
    "vscode": {
     "languageId": "sql"
    }
   },
   "outputs": [],
   "source": [
    "-- Using an Alias\n",
    "SELECT COUNT(*) AS [Number of records]\n",
    "FROM Products;"
   ]
  },
  {
   "cell_type": "code",
   "execution_count": null,
   "id": "fe354930",
   "metadata": {
    "vscode": {
     "languageId": "sql"
    }
   },
   "outputs": [],
   "source": [
    "-- Use COUNT() with GROUP BY\n",
    "-- Here we use the COUNT() function and the GROUP BY clause, to return the number of records for each category in the Products table:\n",
    "\n",
    "SELECT COUNT(*) AS [Number of records], CategoryID\n",
    "FROM Products\n",
    "GROUP BY CategoryID;"
   ]
  },
  {
   "cell_type": "code",
   "execution_count": null,
   "id": "68fee806",
   "metadata": {
    "vscode": {
     "languageId": "sql"
    }
   },
   "outputs": [],
   "source": [
    "-- SUM with GROUP BY\n",
    "SELECT OrderID, SUM(Quantity) AS [Total Quantity]\n",
    "FROM OrderDetails\n",
    "GROUP BY OrderID;"
   ]
  },
  {
   "cell_type": "code",
   "execution_count": null,
   "id": "3340728d",
   "metadata": {
    "vscode": {
     "languageId": "sql"
    }
   },
   "outputs": [],
   "source": [
    "-- LIKE\n",
    "\n",
    "SELECT column1, column2, ...\n",
    "FROM table_name\n",
    "WHERE columnN LIKE pattern;\n",
    "\n",
    "-- Example\n",
    "\n",
    "SELECT * FROM Customers\n",
    "WHERE city LIKE 'L_nd__';\n",
    "\n",
    "SELECT * FROM Customers\n",
    "WHERE CustomerName LIKE 'La%';\n",
    "\n",
    "SELECT * FROM Customers\n",
    "WHERE city LIKE '%L%';\n",
    "\n",
    "-- Return all customers that starts with \"a\" and are at least 3 characters in length:\n",
    "\n",
    "SELECT * FROM Customers\n",
    "WHERE CustomerName LIKE 'a__%';\n",
    "\n",
    "-- Return all customers that have \"r\" in the second position:\n",
    "\n",
    "SELECT * FROM Customers\n",
    "WHERE CustomerName LIKE '_r%';"
   ]
  },
  {
   "cell_type": "markdown",
   "id": "1c0eb107",
   "metadata": {},
   "source": [
    "### Wildcard Characters\n",
    "\n",
    "Symbol\tDescription\n",
    "* %\tRepresents zero or more characters\n",
    "* _\tRepresents a single character\n",
    "* []Represents any single character within the brackets *\n",
    "* ^ Represents any character not in the brackets *\n",
    "* -\tRepresents any single character within the specified range *\n",
    "* {}\tRepresents any escaped character **"
   ]
  },
  {
   "cell_type": "code",
   "execution_count": null,
   "id": "03cddf3e",
   "metadata": {
    "vscode": {
     "languageId": "sql"
    }
   },
   "outputs": [],
   "source": [
    "SELECT * FROM Customers\n",
    "WHERE CustomerName LIKE '[bsp]%';\n",
    "\n",
    "-- Return all customers starting with \"a\", \"b\", \"c\", \"d\", \"e\" or \"f\":\n",
    "\n",
    "SELECT * FROM Customers\n",
    "WHERE CustomerName LIKE '[a-f]%';"
   ]
  },
  {
   "cell_type": "markdown",
   "id": "ec90702f",
   "metadata": {},
   "source": [
    "## The SQL IN Operator\n",
    "The IN operator allows you to specify multiple values in a WHERE clause.\n",
    "\n",
    "The IN operator is a shorthand for multiple OR conditions."
   ]
  },
  {
   "cell_type": "code",
   "execution_count": null,
   "id": "c75105bc",
   "metadata": {
    "vscode": {
     "languageId": "sql"
    }
   },
   "outputs": [],
   "source": [
    "SELECT * FROM Customers\n",
    "WHERE Country IN ('Germany', 'France', 'UK');\n",
    "\n",
    "SELECT * FROM Customers\n",
    "WHERE Country NOT IN ('Germany', 'France', 'UK');\n",
    "\n",
    "-- Example\n",
    "-- Return all customers that have NOT placed any orders in the Orders table:\n",
    "\n",
    "SELECT * FROM Customers\n",
    "WHERE CustomerID NOT IN (SELECT CustomerID FROM Orders);"
   ]
  },
  {
   "cell_type": "markdown",
   "id": "dccd186e",
   "metadata": {},
   "source": [
    "## The SQL BETWEEN Operator\n",
    "The BETWEEN operator selects values within a given range. The values can be numbers, text, or dates.\n",
    "\n",
    "The BETWEEN operator is inclusive: begin and end values are included. "
   ]
  },
  {
   "cell_type": "code",
   "execution_count": null,
   "id": "f9d5ba6e",
   "metadata": {
    "vscode": {
     "languageId": "sql"
    }
   },
   "outputs": [],
   "source": [
    "SELECT column_name(s)\n",
    "FROM table_name\n",
    "WHERE column_name BETWEEN value1 AND value2;\n",
    "\n",
    "-- NOT BETWEEN\n",
    "\n",
    "SELECT * FROM Products\n",
    "WHERE Price NOT BETWEEN 10 AND 20;\n",
    "\n",
    "-- BETWEEN with IN\n",
    "-- The following SQL statement selects all products with a price between 10 and 20. In addition, the CategoryID must be either 1,2, or 3:\n",
    "\n",
    "SELECT * FROM Products\n",
    "WHERE Price BETWEEN 10 AND 20\n",
    "AND CategoryID IN (1,2,3);\n",
    "\n",
    "SELECT * FROM Products\n",
    "WHERE ProductName BETWEEN 'Carnarvon Tigers' AND 'Mozzarella di Giovanni'\n",
    "ORDER BY ProductName;\n",
    "\n",
    "-- BETWEEN Dates\n",
    "-- The following SQL statement selects all orders with an OrderDate between '01-July-1996' and '31-July-1996':\n",
    "\n",
    "SELECT * FROM Orders\n",
    "WHERE OrderDate BETWEEN #07/01/1996# AND #07/31/1996#;\n",
    "\n",
    "OR\n",
    "\n",
    "SELECT * FROM Orders\n",
    "WHERE OrderDate BETWEEN '1996-07-01' AND '1996-07-31';"
   ]
  },
  {
   "cell_type": "code",
   "execution_count": null,
   "id": "115ef6b5",
   "metadata": {
    "vscode": {
     "languageId": "sql"
    }
   },
   "outputs": [],
   "source": [
    "-- ALIAS AS\n",
    "\n",
    "-- for columns\n",
    "SELECT column_name AS alias_name\n",
    "FROM table_name;\n",
    "\n",
    "OR\n",
    "\n",
    "-- for tables\n",
    "SELECT column_name(s)\n",
    "FROM table_name AS alias_name;\n",
    "\n",
    "-- Example\n",
    "SELECT CustomerID AS ID\n",
    "FROM Customers;\n",
    "\n",
    "-- Name with spaces can be between [] or \"\"\n",
    "SELECT ProductName AS [My Great Products]\n",
    "FROM Products;\n",
    "\n",
    "-- Concatenate Columns\n",
    "-- The following SQL statement creates an alias named \"Address\" that combine four columns (Address, PostalCode, City and Country):\n",
    "\n",
    "SELECT CustomerName, Address + ', ' + PostalCode + ' ' + City + ', ' + Country AS Address\n",
    "FROM Customers;\n",
    "\n",
    "-- In MySQL\n",
    "\n",
    "SELECT CustomerName, CONCAT(Address,', ',PostalCode,', ',City,', ',Country) AS Address\n",
    "FROM Customers;\n",
    "\n",
    "-- Alias for tables\n",
    "\n",
    "SELECT o.OrderID, o.OrderDate, c.CustomerName\n",
    "FROM Customers AS c, Orders AS o\n",
    "WHERE c.CustomerName='Around the Horn' AND c.CustomerID=o.CustomerID;"
   ]
  },
  {
   "attachments": {
    "image.png": {
     "image/png": "[encoded data removed]"
    }
   },
   "cell_type": "markdown",
   "id": "1fb6a166",
   "metadata": {},
   "source": [
    "## Different Types of SQL JOINs\n",
    "Here are the different types of the JOINs in SQL:\n",
    "\n",
    "* (INNER) JOIN: Returns records that have matching values in both tables\n",
    "* LEFT (OUTER) JOIN: Returns all records from the left table, and the matched records from the right table\n",
    "* RIGHT (OUTER) JOIN: Returns all records from the right table, and the matched records from the left table\n",
    "* FULL (OUTER) JOIN: Returns all records when there is a match in either left or right table\n",
    "\n",
    "![image.png](attachment:image.png)"
   ]
  },
  {
   "cell_type": "code",
   "execution_count": null,
   "id": "69612ce9",
   "metadata": {
    "vscode": {
     "languageId": "sql"
    }
   },
   "outputs": [],
   "source": [
    "-- INNER JOIN\n",
    "\n",
    "SELECT column_name(s)\n",
    "FROM table1\n",
    "INNER JOIN table2\n",
    "ON table1.column_name = table2.column_name;\n",
    "\n",
    "\n",
    "\n",
    "SELECT Products.ProductID, Products.ProductName, Categories.CategoryName\n",
    "FROM Products\n",
    "INNER JOIN Categories ON Products.CategoryID = Categories.CategoryID;\n",
    "\n",
    "-- JOIN three tables\n",
    "\n",
    "SELECT Orders.OrderID, Customers.CustomerName, Shippers.ShipperName\n",
    "FROM ((Orders\n",
    "INNER JOIN Customers ON Orders.CustomerID = Customers.CustomerID)\n",
    "INNER JOIN Shippers ON Orders.ShipperID = Shippers.ShipperID);\n",
    "\n",
    "-- LEFT JOIN\n",
    "\n",
    "SELECT column_name(s)\n",
    "FROM table1\n",
    "LEFT JOIN table2\n",
    "ON table1.column_name = table2.column_name;\n",
    "\n",
    "-- SQL LEFT JOIN Example\n",
    "-- The following SQL statement will select all customers, and any orders they might have:\n",
    "\n",
    "SELECT Customers.CustomerName, Orders.OrderID\n",
    "FROM Customers\n",
    "LEFT JOIN Orders ON Customers.CustomerID = Orders.CustomerID\n",
    "ORDER BY Customers.CustomerName;\n",
    "\n",
    "/*\n",
    "SQL FULL OUTER JOIN Keyword\n",
    "The FULL OUTER JOIN keyword returns all records when there is a match in left (table1) or right (table2) table records.\n",
    "\n",
    "Tip: FULL OUTER JOIN and FULL JOIN are the same.\n",
    "*/\n",
    "SELECT column_name(s)\n",
    "FROM table1\n",
    "FULL OUTER JOIN table2\n",
    "ON table1.column_name = table2.column_name\n",
    "WHERE condition;\n",
    "\n",
    "SELECT Customers.CustomerName, Orders.OrderID\n",
    "FROM Customers\n",
    "FULL OUTER JOIN Orders ON Customers.CustomerID=Orders.CustomerID\n",
    "ORDER BY Customers.CustomerName;"
   ]
  },
  {
   "cell_type": "code",
   "execution_count": null,
   "id": "d21d26bd",
   "metadata": {
    "vscode": {
     "languageId": "sql"
    }
   },
   "outputs": [],
   "source": [
    "--SQL Self Join\n",
    "-- A self join is a regular join, but the table is joined with itself.\n",
    "\n",
    "SELECT column_name(s)\n",
    "FROM table1 T1, table1 T2\n",
    "WHERE condition;\n",
    "\n",
    "SELECT A.CustomerName AS CustomerName1, B.CustomerName AS CustomerName2, A.City\n",
    "FROM Customers A, Customers B\n",
    "WHERE A.CustomerID <> B.CustomerID\n",
    "AND A.City = B.City\n",
    "ORDER BY A.City;"
   ]
  },
  {
   "cell_type": "markdown",
   "id": "09c5b9db",
   "metadata": {},
   "source": [
    "### The SQL UNION Operator\n",
    "The UNION operator is used to combine the result-set of two or more SELECT statements.\n",
    "\n",
    "* Every SELECT statement within UNION must have the same number of columns\n",
    "* The columns must also have similar data types\n",
    "* The columns in every SELECT statement must also be in the same order"
   ]
  },
  {
   "cell_type": "code",
   "execution_count": null,
   "id": "7dee8b86",
   "metadata": {
    "vscode": {
     "languageId": "sql"
    }
   },
   "outputs": [],
   "source": [
    "SELECT column_name(s) FROM table1\n",
    "UNION\n",
    "SELECT column_name(s) FROM table2;\n",
    "\n",
    "-- UNION ALL Syntax\n",
    "-- The UNION operator selects only distinct values by default. To allow duplicate values, use UNION ALL:\n",
    "\n",
    "SELECT column_name(s) FROM table1\n",
    "UNION ALL\n",
    "SELECT column_name(s) FROM table2;\n",
    "\n",
    "-- UNION with WHERE\n",
    "\n",
    "SELECT City, Country FROM Customers\n",
    "WHERE Country='Germany'\n",
    "UNION\n",
    "SELECT City, Country FROM Suppliers\n",
    "WHERE Country='Germany'\n",
    "ORDER BY City;\n",
    "\n",
    "-- Creates a column Alias Type that lists if the person is a 'Customer' or 'Supplier'\n",
    "\n",
    "SELECT 'Customer' AS Type, ContactName, City, Country\n",
    "FROM Customers\n",
    "UNION\n",
    "SELECT 'Supplier', ContactName, City, Country\n",
    "FROM Suppliers;"
   ]
  },
  {
   "cell_type": "markdown",
   "id": "238ab10f",
   "metadata": {},
   "source": [
    "### The SQL GROUP BY Statement\n",
    "The GROUP BY statement groups rows that have the same values into summary rows, like \"find the number of customers in each country\".\n",
    "\n",
    "The GROUP BY statement is often used with aggregate functions (COUNT(), MAX(), MIN(), SUM(), AVG()) to group the result-set by one or more columns.\n",
    "\n",
    "'''GROUP BY Syntax\n",
    "SELECT column_name(s)\n",
    "FROM table_name\n",
    "WHERE condition\n",
    "GROUP BY column_name(s)\n",
    "ORDER BY column_name(s);'''"
   ]
  },
  {
   "cell_type": "code",
   "execution_count": null,
   "id": "90eeda92",
   "metadata": {
    "vscode": {
     "languageId": "sql"
    }
   },
   "outputs": [],
   "source": [
    "SELECT COUNT(CustomerID), Country\n",
    "FROM Customers\n",
    "GROUP BY Country\n",
    "ORDER BY COUNT(CustomerID) DESC;"
   ]
  },
  {
   "cell_type": "code",
   "execution_count": null,
   "id": "12047ebf",
   "metadata": {
    "vscode": {
     "languageId": "sql"
    }
   },
   "outputs": [],
   "source": [
    "-- GROUP BY With JOIN Example\n",
    "-- The following SQL statement lists the number of orders sent by each shipper:\n",
    "\n",
    "SELECT Shippers.ShipperName, COUNT(Orders.OrderID) AS NumberOfOrders FROM Orders\n",
    "LEFT JOIN Shippers ON Orders.ShipperID = Shippers.ShipperID\n",
    "GROUP BY ShipperName;"
   ]
  },
  {
   "cell_type": "markdown",
   "id": "069efb3e",
   "metadata": {},
   "source": [
    "## The SQL HAVING Clause\n",
    "The HAVING clause was added to SQL because the WHERE keyword cannot be used with aggregate functions."
   ]
  },
  {
   "cell_type": "code",
   "execution_count": null,
   "id": "3348f90b",
   "metadata": {
    "vscode": {
     "languageId": "sql"
    }
   },
   "outputs": [],
   "source": [
    "SELECT column_name(s)\n",
    "FROM table_name\n",
    "WHERE condition\n",
    "GROUP BY column_name(s)\n",
    "HAVING condition\n",
    "ORDER BY column_name(s);\n",
    "\n",
    "-- The following SQL statement lists the number of customers in each country. Only include countries with more than 5 customers:\n",
    "\n",
    "SELECT COUNT(CustomerID), Country\n",
    "FROM Customers\n",
    "GROUP BY Country\n",
    "HAVING COUNT(CustomerID) > 5;\n",
    "\n",
    "-- The following SQL statement lists if the employees \"Davolio\" or \"Fuller\" have registered more than 25 orders:\n",
    "\n",
    "SELECT Employees.LastName, COUNT(Orders.OrderID) AS NumberOfOrders\n",
    "FROM Orders\n",
    "INNER JOIN Employees ON Orders.EmployeeID = Employees.EmployeeID\n",
    "WHERE LastName = 'Davolio' OR LastName = 'Fuller'\n",
    "GROUP BY LastName\n",
    "HAVING COUNT(Orders.OrderID) > 25;"
   ]
  },
  {
   "cell_type": "markdown",
   "id": "84635f81",
   "metadata": {},
   "source": [
    "## The SQL EXISTS Operator\n",
    "The EXISTS operator is used to test for the existence of any record in a subquery.\n",
    "\n",
    "The EXISTS operator returns TRUE if the subquery returns one or more records."
   ]
  },
  {
   "cell_type": "code",
   "execution_count": null,
   "id": "6cd1f451",
   "metadata": {
    "vscode": {
     "languageId": "sql"
    }
   },
   "outputs": [],
   "source": [
    "SELECT column_name(s)\n",
    "FROM table_name\n",
    "WHERE EXISTS\n",
    "(SELECT column_name FROM table_name WHERE condition);\n",
    "\n",
    "\n",
    "-- The following SQL statement returns TRUE and lists the suppliers with a product price less than 20:\n",
    "\n",
    "SELECT SupplierName\n",
    "FROM Suppliers\n",
    "WHERE EXISTS (SELECT ProductName FROM Products WHERE Products.SupplierID = Suppliers.supplierID AND Price < 20);"
   ]
  },
  {
   "cell_type": "markdown",
   "id": "b75f470b",
   "metadata": {},
   "source": [
    "## The SQL ANY Operator\n",
    "\n",
    "* Returns a boolean value as a result\n",
    "* Returns TRUE if ANY of the subquery values meet the condition\n",
    "* ANY means that the condition will be true if the operation is true for any of the values in the range.\n",
    "\n",
    "Note: The operator must be a standard comparison operator (=, <>, !=, >, >=, <, or <=)."
   ]
  },
  {
   "cell_type": "code",
   "execution_count": null,
   "id": "ce17f7a9",
   "metadata": {
    "vscode": {
     "languageId": "sql"
    }
   },
   "outputs": [],
   "source": [
    "SELECT column_name(s)\n",
    "FROM table_name\n",
    "WHERE column_name operator ANY\n",
    "  (SELECT column_name\n",
    "  FROM table_name\n",
    "  WHERE condition);"
   ]
  },
  {
   "cell_type": "markdown",
   "id": "2aae1746",
   "metadata": {},
   "source": [
    "## The SQL ALL Operator\n",
    "\n",
    "* Returns a boolean value as a result\n",
    "* Returns TRUE if ALL of the subquery values meet the condition\n",
    "* Is used with SELECT, WHERE and HAVING statements\n",
    "* ALL means that the condition will be true only if the operation is true for all values in the range. "
   ]
  },
  {
   "cell_type": "code",
   "execution_count": null,
   "id": "ccd9d150",
   "metadata": {
    "vscode": {
     "languageId": "sql"
    }
   },
   "outputs": [],
   "source": [
    "SELECT ALL column_name(s)\n",
    "FROM table_name\n",
    "WHERE condition;\n",
    "\n",
    "-- ALL Syntax With WHERE or HAVING\n",
    "\n",
    "SELECT column_name(s)\n",
    "FROM table_name\n",
    "WHERE column_name operator ALL\n",
    "  (SELECT column_name\n",
    "  FROM table_name\n",
    "  WHERE condition);\n",
    "\n",
    "-- The following SQL statement lists the ProductName if it finds ANY records in the OrderDetails table has Quantity equal to 10 (this will return TRUE because the Quantity column has some values of 10):\n",
    "\n",
    "SELECT ProductName\n",
    "FROM Products\n",
    "WHERE ProductID = ANY\n",
    "  (SELECT ProductID\n",
    "  FROM OrderDetails\n",
    "  WHERE Quantity = 10);\n",
    "\n",
    "-- The following SQL statement lists ALL the product names:\n",
    "\n",
    "SELECT ALL ProductName\n",
    "FROM Products\n",
    "WHERE TRUE;"
   ]
  },
  {
   "cell_type": "markdown",
   "id": "0caf66a8",
   "metadata": {},
   "source": [
    "## The SQL SELECT INTO Statement\n",
    "\n",
    "The SELECT INTO statement copies data from one table into a new table."
   ]
  },
  {
   "cell_type": "code",
   "execution_count": null,
   "id": "e669e7ee",
   "metadata": {
    "vscode": {
     "languageId": "sql"
    }
   },
   "outputs": [],
   "source": [
    "SELECT *\n",
    "INTO newtable [IN externaldb]\n",
    "FROM oldtable\n",
    "WHERE condition;\n",
    "\n",
    "OR\n",
    "\n",
    "SELECT column1, column2, column3\n",
    "INTO newtable [IN externaldb]\n",
    "FROM oldtable\n",
    "WHERE condition;\n",
    "\n",
    "-- The following SQL statement creates a backup copy of Customers:\n",
    "\n",
    "SELECT * INTO CustomersBackup2017\n",
    "FROM Customers;\n",
    "\n",
    "-- The following SQL statement uses the IN clause to copy the table into a new table in another database:\n",
    "\n",
    "SELECT * INTO CustomersBackup2017 IN 'Backup.mdb'\n",
    "FROM Customers;\n",
    "\n",
    "-- The following SQL statement copies data from more than one table into a new table:\n",
    "\n",
    "SELECT Customers.CustomerName, Orders.OrderID\n",
    "INTO CustomersOrderBackup2017\n",
    "FROM Customers\n",
    "LEFT JOIN Orders ON Customers.CustomerID = Orders.CustomerID;\n",
    "\n",
    "-- Tip: SELECT INTO can also be used to create a new, empty table using the schema of another. Just add a WHERE clause that causes the query to return no data:\n",
    "\n",
    "SELECT * INTO newtable\n",
    "FROM oldtable\n",
    "WHERE 1 = 0;"
   ]
  },
  {
   "cell_type": "markdown",
   "id": "661d4e4d",
   "metadata": {},
   "source": [
    "### The SQL INSERT INTO SELECT Statement\n",
    "\n",
    "The INSERT INTO SELECT statement copies data from one table and inserts it into another table.\n",
    "\n",
    "The INSERT INTO SELECT statement requires that the data types in source and target tables match.\n",
    "\n",
    "Note: The existing records in the target table are unaffected."
   ]
  },
  {
   "cell_type": "code",
   "execution_count": null,
   "id": "fb3b2919",
   "metadata": {
    "vscode": {
     "languageId": "sql"
    }
   },
   "outputs": [],
   "source": [
    "INSERT INTO table2\n",
    "SELECT * FROM table1\n",
    "WHERE condition;\n",
    "\n",
    "-- Copy only some columns from one table into another table:\n",
    "\n",
    "INSERT INTO table2 (column1, column2, column3, ...)\n",
    "SELECT column1, column2, column3, ...\n",
    "FROM table1\n",
    "WHERE condition\n",
    "\n",
    "-- Copy \"Suppliers\" into \"Customers\" (the columns that are not filled with data, will contain NULL):\n",
    "\n",
    "INSERT INTO Customers (CustomerName, City, Country)\n",
    "SELECT SupplierName, City, Country FROM Suppliers;\n",
    "\n",
    "-- Copy \"Suppliers\" into \"Customers\" (fill all columns):\n",
    "\n",
    "INSERT INTO Customers (CustomerName, ContactName, Address, City, PostalCode, Country)\n",
    "SELECT SupplierName, ContactName, Address, City, PostalCode, Country FROM Suppliers;\n",
    "\n",
    "-- Copy only the German suppliers into \"Customers\":\n",
    "\n",
    "INSERT INTO Customers (CustomerName, City, Country)\n",
    "SELECT SupplierName, City, Country FROM Suppliers\n",
    "WHERE Country='Germany';"
   ]
  },
  {
   "cell_type": "markdown",
   "id": "451a6600",
   "metadata": {},
   "source": [
    "## The SQL CASE Expression\n",
    "\n",
    "The CASE expression goes through conditions and returns a value when the first condition is met (like an if-then-else statement). So, once a condition is true, it will stop reading and return the result. If no conditions are true, it returns the value in the ELSE clause.\n",
    "\n",
    "If there is no ELSE part and no conditions are true, it returns NULL."
   ]
  },
  {
   "cell_type": "code",
   "execution_count": null,
   "id": "a8f44629",
   "metadata": {
    "vscode": {
     "languageId": "sql"
    }
   },
   "outputs": [],
   "source": [
    "CASE\n",
    "    WHEN condition1 THEN result1\n",
    "    WHEN condition2 THEN result2\n",
    "    WHEN conditionN THEN resultN\n",
    "    ELSE result\n",
    "END;\n",
    "\n",
    "-- The following SQL goes through conditions and returns a value when the first condition is met:\n",
    "\n",
    "SELECT OrderID, Quantity,\n",
    "CASE\n",
    "    WHEN Quantity > 30 THEN 'The quantity is greater than 30'\n",
    "    WHEN Quantity = 30 THEN 'The quantity is 30'\n",
    "    ELSE 'The quantity is under 30'\n",
    "END AS QuantityText\n",
    "FROM OrderDetails;\n",
    "\n",
    "-- The following SQL will order the customers by City. However, if City is NULL, then order by Country:\n",
    "\n",
    "SELECT CustomerName, City, Country\n",
    "FROM Customers\n",
    "ORDER BY\n",
    "(CASE\n",
    "    WHEN City IS NULL THEN Country\n",
    "    ELSE City\n",
    "END);"
   ]
  },
  {
   "cell_type": "markdown",
   "id": "88a42692",
   "metadata": {},
   "source": [
    "## SQL IFNULL(), ISNULL(), COALESCE(), and NVL() Functions\n",
    "\n",
    "Suppose that the \"UnitsOnOrder\" column is optional, and may contain NULL values.\n",
    "\n",
    "Look at the following SELECT statement:\n",
    "\n",
    "```sql\n",
    "SELECT ProductName, UnitPrice * (UnitsInStock + UnitsOnOrder)\n",
    "FROM Products;\n",
    "```\n",
    "\n",
    "In the example above, if any of the \"UnitsOnOrder\" values are NULL, the result will be NULL."
   ]
  },
  {
   "cell_type": "code",
   "execution_count": null,
   "id": "7e57b50b",
   "metadata": {
    "vscode": {
     "languageId": "sql"
    }
   },
   "outputs": [],
   "source": [
    "-- MySQL\n",
    "\n",
    "-- The MySQL IFNULL() function lets you return an alternative value if an expression is NULL:\n",
    "\n",
    "SELECT ProductName, UnitPrice * (UnitsInStock + IFNULL(UnitsOnOrder, 0))\n",
    "FROM Products;\n",
    "\n",
    "-- or we can use the COALESCE() function, like this:\n",
    "\n",
    "SELECT ProductName, UnitPrice * (UnitsInStock + COALESCE(UnitsOnOrder, 0))\n",
    "FROM Products;\n",
    "\n",
    "-- SQL Server\n",
    "\n",
    "-- The SQL Server ISNULL() function lets you return an alternative value when an expression is NULL:\n",
    "\n",
    "SELECT ProductName, UnitPrice * (UnitsInStock + ISNULL(UnitsOnOrder, 0))\n",
    "FROM Products;\n",
    "\n",
    "-- or we can use the COALESCE() function, like this:\n",
    "\n",
    "SELECT ProductName, UnitPrice * (UnitsInStock + COALESCE(UnitsOnOrder, 0))\n",
    "FROM Products;"
   ]
  },
  {
   "cell_type": "markdown",
   "id": "2115cf33",
   "metadata": {},
   "source": [
    "## Stored Procedure\n",
    "\n",
    "A stored procedure is a prepared SQL code that you can save, so the code can be reused over and over again.\n",
    "\n",
    "So if you have an SQL query that you write over and over again, save it as a stored procedure, and then just call it to execute it.\n",
    "\n",
    "You can also pass parameters to a stored procedure, so that the stored procedure can act based on the parameter value(s) that is passed.\n",
    "\n",
    "```sql\n",
    "CREATE PROCEDURE procedure_name\n",
    "AS sql_statement\n",
    "GO;\n",
    "```\n",
    "\n",
    "### Execute a stored procedure\n",
    "\n",
    "EXEC procedure_name;"
   ]
  },
  {
   "cell_type": "code",
   "execution_count": null,
   "id": "fae2169b",
   "metadata": {
    "vscode": {
     "languageId": "sql"
    }
   },
   "outputs": [],
   "source": [
    "-- Example\n",
    "\n",
    "CREATE PROCEDURE SelectAllCustomers\n",
    "AS\n",
    "SELECT * FROM Customers\n",
    "GO;\n",
    "\n",
    "EXEC SelectAllCustomers;\n",
    "\n",
    "-- Stored Procedure With One Parameter\n",
    "\n",
    "CREATE PROCEDURE SelectAllCustomers @City nvarchar(30)\n",
    "AS\n",
    "SELECT * FROM Customers WHERE City = @City\n",
    "GO;\n",
    "\n",
    "-- Executes...\n",
    "\n",
    "EXEC SelectAllCustomers @City = 'London';\n",
    "\n",
    "\n",
    "-- Stored Procedure With Multiple Parameters\n",
    "\n",
    "CREATE PROCEDURE SelectAllCustomers @City nvarchar(30), @PostalCode nvarchar(10)\n",
    "AS\n",
    "SELECT * FROM Customers WHERE City = @City AND PostalCode = @PostalCode\n",
    "GO;\n",
    "\n",
    "--\n",
    "\n",
    "EXEC SelectAllCustomers @City = 'London', @PostalCode = 'WA1 1DP';"
   ]
  },
  {
   "cell_type": "code",
   "execution_count": null,
   "id": "ab87efe0",
   "metadata": {
    "vscode": {
     "languageId": "sql"
    }
   },
   "outputs": [],
   "source": [
    "-- Comments\n",
    "\n",
    "SELECT * FROM Customers WHERE (CustomerName LIKE 'L%'\n",
    "OR CustomerName LIKE 'R%' /*OR CustomerName LIKE 'S%'\n",
    "OR CustomerName LIKE 'T%'*/ OR CustomerName LIKE 'W%')\n",
    "AND Country='USA'\n",
    "ORDER BY CustomerName;"
   ]
  },
  {
   "cell_type": "markdown",
   "id": "a1f48f77",
   "metadata": {},
   "source": []
  }
 ],
 "metadata": {
  "kernelspec": {
   "display_name": "Python 3",
   "language": "python",
   "name": "python3"
  },
  "language_info": {
   "codemirror_mode": {
    "name": "ipython",
    "version": 3
   },
   "file_extension": ".py",
   "mimetype": "text/x-python",
   "name": "python",
   "nbconvert_exporter": "python",
   "pygments_lexer": "ipython3",
   "version": "3.11.5"
  }
 },
 "nbformat": 4,
 "nbformat_minor": 5
}
