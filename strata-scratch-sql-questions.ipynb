{
 "cells": [
  {
   "attachments": {},
   "cell_type": "markdown",
   "metadata": {},
   "source": [
    "### Most Profitable Companies\n",
    "\n",
    "\n",
    "Forbes, Medium, General Practice, ID 10354\n",
    "\n",
    "Find the 3 most profitable companies in the entire world.\n",
    "Output the result along with the corresponding company name.\n",
    "Sort the result based on profits in descending order.\n",
    "\n",
    "Table: forbes_global_2010_2014"
   ]
  },
  {
   "cell_type": "code",
   "execution_count": null,
   "metadata": {
    "vscode": {
     "languageId": "sql"
    }
   },
   "outputs": [],
   "source": [
    "SELECT company,\n",
    "       profit\n",
    "FROM\n",
    "  (SELECT *,\n",
    "          rank() OVER (\n",
    "                       ORDER BY profit DESC) as rank\n",
    "   FROM\n",
    "     (SELECT company,\n",
    "             sum(profits) AS profit\n",
    "      FROM forbes_global_2010_2014\n",
    "      GROUP BY company) sq) sq2\n",
    "WHERE rank <=3"
   ]
  },
  {
   "cell_type": "markdown",
   "metadata": {},
   "source": []
  }
 ],
 "metadata": {
  "language_info": {
   "name": "python"
  },
  "orig_nbformat": 4
 },
 "nbformat": 4,
 "nbformat_minor": 2
}
