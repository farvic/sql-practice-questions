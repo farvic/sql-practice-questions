{
 "cells": [
  {
   "attachments": {},
   "cell_type": "markdown",
   "metadata": {},
   "source": [
    "### Revising the Select Query II\n",
    "\n",
    "Query the NAME field for all American cities in the CITY table with populations larger than 120000. The CountryCode for America is USA."
   ]
  },
  {
   "cell_type": "code",
   "execution_count": 2,
   "metadata": {
    "vscode": {
     "languageId": "sql"
    }
   },
   "outputs": [
    {
     "name": "stderr",
     "output_type": "stream",
     "text": [
      "UsageError: Cell magic `%%postgresql` not found.\n"
     ]
    }
   ],
   "source": [
    "%%postgresql\n",
    "\n",
    "SELECT name FROM city\n",
    "WHERE countrycode = 'USA'\n",
    "    AND population > 120000;"
   ]
  },
  {
   "attachments": {},
   "cell_type": "markdown",
   "metadata": {},
   "source": [
    "Query all columns for a city in CITY with the ID 1661."
   ]
  },
  {
   "cell_type": "code",
   "execution_count": null,
   "metadata": {
    "vscode": {
     "languageId": "sql"
    }
   },
   "outputs": [],
   "source": [
    "SELECT * FROM city\n",
    "WHERE ID = 1661;"
   ]
  },
  {
   "cell_type": "code",
   "execution_count": null,
   "metadata": {
    "vscode": {
     "languageId": "sql"
    }
   },
   "outputs": [],
   "source": [
    "SELECT name\n",
    "FROM city\n",
    "WHERE countrycode = 'JPN';"
   ]
  },
  {
   "attachments": {},
   "cell_type": "markdown",
   "metadata": {},
   "source": [
    "### Weather Observation Station 3\n",
    "\n",
    "Query a list of city names from STATION for cities that have an even ID number. Print the results in any order, but exclude duplicates from the answer."
   ]
  },
  {
   "cell_type": "code",
   "execution_count": null,
   "metadata": {
    "vscode": {
     "languageId": "sql"
    }
   },
   "outputs": [],
   "source": [
    "SELECT DISTINCT city\n",
    "FROM station\n",
    "WHERE MOD(id,2) = 0;"
   ]
  },
  {
   "cell_type": "markdown",
   "metadata": {},
   "source": [
    "### Weather Observation Station 4\n",
    "\n",
    "Find the difference between the total number of city entries in the table AND the number of distinct city entries in the table.\n",
    "The STATION table is described as follows:"
   ]
  },
  {
   "cell_type": "code",
   "execution_count": null,
   "metadata": {
    "vscode": {
     "languageId": "sql"
    }
   },
   "outputs": [],
   "source": [
    "SELECT COUNT(city) - COUNT(DISTINCT city)\n",
    "FROM station;"
   ]
  },
  {
   "cell_type": "markdown",
   "metadata": {},
   "source": [
    "### Weather Observation Station 5\n",
    "\n",
    "Query the two cities in STATION with the shortest AND longest city names, as well as their respective lengths (i.e.: number of characters in the name). If there is more than one smallest or largest city, choose the one that comes first when ordered alphabetically.\n",
    "The STATION table is described as follows:"
   ]
  },
  {
   "cell_type": "code",
   "execution_count": null,
   "metadata": {
    "vscode": {
     "languageId": "sql"
    }
   },
   "outputs": [],
   "source": [
    "SELECT city, LENGTH(city) FROM station\n",
    "ORDER BY LENGTH(city), city\n",
    "LIMIT 1;\n",
    "\n",
    "SELECT city, LENGTH(city) FROM station\n",
    "ORDER BY LENGTH(city) DESC, city\n",
    "LIMIT 1;"
   ]
  },
  {
   "cell_type": "markdown",
   "metadata": {},
   "source": [
    "### Weather Observation Station 6\n",
    "\n",
    "Query the list of CITY names starting with vowels (i.e., a, e, i, o, or u) from STATION. Your result cannot contain duplicates."
   ]
  },
  {
   "cell_type": "code",
   "execution_count": null,
   "metadata": {
    "vscode": {
     "languageId": "sql"
    }
   },
   "outputs": [],
   "source": [
    "SELECT DISTINCT city\n",
    "FROM station\n",
    "WHERE city LIKE 'A%'\n",
    "    OR city LIKE 'E%'\n",
    "    OR city LIKE 'I%'\n",
    "    OR city LIKE 'O%'\n",
    "    OR city LIKE 'U%';"
   ]
  },
  {
   "cell_type": "markdown",
   "metadata": {},
   "source": [
    "### Weather Observation Station 7\n",
    "\n",
    "Query the list of CITY names ending with vowels (i.e., a, e, i, o, or u) from STATION. Your result cannot contain duplicates."
   ]
  },
  {
   "cell_type": "code",
   "execution_count": null,
   "metadata": {
    "vscode": {
     "languageId": "sql"
    }
   },
   "outputs": [],
   "source": [
    "SELECT DISTINCT city\n",
    "FROM station\n",
    "WHERE city LIKE '%a'\n",
    "    OR city LIKE '%e'\n",
    "    OR city LIKE '%i'\n",
    "    OR city LIKE '%o'\n",
    "    OR city LIKE '%u';"
   ]
  },
  {
   "cell_type": "markdown",
   "metadata": {},
   "source": [
    "### Weather Observation Sation 7\n",
    "\n",
    "Query a list of city names starting and ending with vowels, without duplicates."
   ]
  },
  {
   "cell_type": "code",
   "execution_count": null,
   "metadata": {
    "vscode": {
     "languageId": "sql"
    }
   },
   "outputs": [],
   "source": [
    "SELECT DISTINCT city\n",
    "FROM station\n",
    "WHERE(city LIKE 'A%'\n",
    "    OR city LIKE 'E%'\n",
    "    OR city LIKE 'I%'\n",
    "    OR city LIKE 'O%'\n",
    "    OR city LIKE 'U%')\n",
    "AND(city LIKE '%a'\n",
    "    OR city LIKE '%e'\n",
    "    OR city LIKE '%i'\n",
    "    OR city LIKE '%o'\n",
    "    OR city LIKE '%u');"
   ]
  },
  {
   "cell_type": "markdown",
   "metadata": {},
   "source": [
    "Weather Observation Station 9"
   ]
  },
  {
   "cell_type": "code",
   "execution_count": null,
   "metadata": {
    "vscode": {
     "languageId": "sql"
    }
   },
   "outputs": [],
   "source": [
    "SELECT DISTINCT city \n",
    "FROM station\n",
    "WHERE(city NOT LIKE 'A%'\n",
    "    AND city NOT LIKE 'E%'\n",
    "    AND city NOT LIKE 'I%'\n",
    "    AND city NOT LIKE 'O%'\n",
    "    AND city NOT LIKE 'U%');"
   ]
  },
  {
   "cell_type": "markdown",
   "metadata": {},
   "source": [
    "## Weather Observation Station 10\n",
    "\n",
    "Query the list of CITY names from STATION that do not end with vowels. Your result cannot contain duplicates."
   ]
  },
  {
   "cell_type": "code",
   "execution_count": null,
   "metadata": {
    "vscode": {
     "languageId": "sql"
    }
   },
   "outputs": [
    {
     "ename": "SyntaxError",
     "evalue": "invalid syntax (3828333072.py, line 1)",
     "output_type": "error",
     "traceback": [
      "\u001b[1;36m  Cell \u001b[1;32mIn[1], line 1\u001b[1;36m\u001b[0m\n\u001b[1;33m    SELECT DISTINCT city\u001b[0m\n\u001b[1;37m           ^\u001b[0m\n\u001b[1;31mSyntaxError\u001b[0m\u001b[1;31m:\u001b[0m invalid syntax\n"
     ]
    }
   ],
   "source": [
    "SELECT DISTINCT city \n",
    "FROM station\n",
    "WHERE(city NOT LIKE '%a'\n",
    "    AND city NOT LIKE '%e'\n",
    "    AND city NOT LIKE '%i'\n",
    "    AND city NOT LIKE '%o'\n",
    "    AND city NOT LIKE '%u');"
   ]
  }
 ],
 "metadata": {
  "kernelspec": {
   "display_name": "Python 3",
   "language": "python",
   "name": "python3"
  },
  "language_info": {
   "codemirror_mode": {
    "name": "ipython",
    "version": 3
   },
   "file_extension": ".py",
   "mimetype": "text/x-python",
   "name": "python",
   "nbconvert_exporter": "python",
   "pygments_lexer": "ipython3",
   "version": "3.11.5"
  },
  "orig_nbformat": 4
 },
 "nbformat": 4,
 "nbformat_minor": 2
}
